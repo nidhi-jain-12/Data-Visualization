{
  "nbformat": 4,
  "nbformat_minor": 0,
  "metadata": {
    "colab": {
      "name": "subplot.ipynb",
      "provenance": [],
      "collapsed_sections": [],
      "authorship_tag": "ABX9TyNrIdGnKBIJ0gcm9rRh+4lK",
      "include_colab_link": true
    },
    "kernelspec": {
      "name": "python3",
      "display_name": "Python 3"
    },
    "language_info": {
      "name": "python"
    }
  },
  "cells": [
    {
      "cell_type": "markdown",
      "metadata": {
        "id": "view-in-github",
        "colab_type": "text"
      },
      "source": [
        "<a href=\"https://colab.research.google.com/github/nidhi-jain-12/Data-Visualization/blob/Main/subplot.ipynb\" target=\"_parent\"><img src=\"https://colab.research.google.com/assets/colab-badge.svg\" alt=\"Open In Colab\"/></a>"
      ]
    },
    {
      "cell_type": "code",
      "metadata": {
        "id": "CC9zaJ_ntyJe"
      },
      "source": [
        "#data visualization with python\n",
        "#importing all libraries in python for data visualization"
      ],
      "execution_count": null,
      "outputs": []
    },
    {
      "cell_type": "code",
      "metadata": {
        "id": "mFXaL79ktd6K"
      },
      "source": [
        "import numpy as np\n",
        "import pandas as pd\n",
        "import seaborn as sns\n",
        "import matplotlib as mpl\n",
        "import matplotlib.pyplot as plt\n",
        "%matplotlib inline"
      ],
      "execution_count": 23,
      "outputs": []
    },
    {
      "cell_type": "code",
      "metadata": {
        "id": "wk4fE0fLkp74"
      },
      "source": [
        "#Question 3\n",
        "#create a 3 by 3 subplots:\n",
        "#multiple plots"
      ],
      "execution_count": 24,
      "outputs": []
    },
    {
      "cell_type": "code",
      "metadata": {
        "id": "MZyp8yvFk6Qg"
      },
      "source": [
        "x=[1,2,3,4]\n",
        "y1=[4,3,2,1]\n",
        "y2=[10,20,30,40]\n",
        "y3=[40,30,20,10]\n",
        "y4=[1,2,1,2]\n",
        "y5=[40,70,90,70]"
      ],
      "execution_count": 25,
      "outputs": []
    },
    {
      "cell_type": "code",
      "metadata": {
        "colab": {
          "base_uri": "https://localhost:8080/",
          "height": 207
        },
        "id": "UUN95vnWlMNh",
        "outputId": "4908f4f7-c6ff-40d7-9602-e4691f36e11a"
      },
      "source": [
        "#creating  subplots\n",
        "#for x and y1\n",
        "plt.subplot(3,3,1)\n",
        "plt.plot(x,y1,'r--')\n",
        "plt.subplot(3,3,2)\n",
        "plt.plot(x,y1,'b*--')\n",
        "plt.subplot(3,3,3)\n",
        "plt.plot(x,y1,'go-')\n",
        "plt.subplot(3,3,4)\n",
        "plt.plot(x,y1,'b-')"
      ],
      "execution_count": 39,
      "outputs": [
        {
          "output_type": "execute_result",
          "data": {
            "text/plain": [
              "[<matplotlib.lines.Line2D at 0x7f33e4621fd0>]"
            ]
          },
          "metadata": {
            "tags": []
          },
          "execution_count": 39
        },
        {
          "output_type": "display_data",
          "data": {
            "image/png": "[encoded data removed]",
            "text/plain": [
              "<Figure size 432x288 with 4 Axes>"
            ]
          },
          "metadata": {
            "tags": [],
            "needs_background": "light"
          }
        }
      ]
    },
    {
      "cell_type": "code",
      "metadata": {
        "colab": {
          "base_uri": "https://localhost:8080/",
          "height": 207
        },
        "id": "nrvsm8retN9A",
        "outputId": "df84cb2d-53e7-41ef-aa46-838fa0a29e9f"
      },
      "source": [
        "#creating  subplots\n",
        "#for x and y2\n",
        "plt.subplot(3,3,1)\n",
        "plt.plot(x,y2,'r--')\n",
        "plt.subplot(3,3,2)\n",
        "plt.plot(x,y2,'b*--')\n",
        "plt.subplot(3,3,3)\n",
        "plt.plot(x,y2,'go-')\n",
        "plt.subplot(3,3,4)\n",
        "plt.plot(x,y2,'b-')"
      ],
      "execution_count": 38,
      "outputs": [
        {
          "output_type": "execute_result",
          "data": {
            "text/plain": [
              "[<matplotlib.lines.Line2D at 0x7f33e46fe0d0>]"
            ]
          },
          "metadata": {
            "tags": []
          },
          "execution_count": 38
        },
        {
          "output_type": "display_data",
          "data": {
            "image/png": "[encoded data removed]",
            "text/plain": [
              "<Figure size 432x288 with 4 Axes>"
            ]
          },
          "metadata": {
            "tags": [],
            "needs_background": "light"
          }
        }
      ]
    },
    {
      "cell_type": "code",
      "metadata": {
        "id": "3GrZsZl1xHFU",
        "colab": {
          "base_uri": "https://localhost:8080/",
          "height": 207
        },
        "outputId": "b70f922b-ff29-4368-a299-8405aa8f4d2e"
      },
      "source": [
        "#creating  subplots\n",
        "#for x and y3\n",
        "plt.subplot(3,3,1)\n",
        "plt.plot(x,y3,'r--')\n",
        "plt.subplot(3,3,2)\n",
        "plt.plot(x,y3,'b*--')\n",
        "plt.subplot(3,3,3)\n",
        "plt.plot(x,y3,'go-')\n",
        "plt.subplot(3,3,4)\n",
        "plt.plot(x,y3,'b-')"
      ],
      "execution_count": 37,
      "outputs": [
        {
          "output_type": "execute_result",
          "data": {
            "text/plain": [
              "[<matplotlib.lines.Line2D at 0x7f33e484a210>]"
            ]
          },
          "metadata": {
            "tags": []
          },
          "execution_count": 37
        },
        {
          "output_type": "display_data",
          "data": {
            "image/png": "[encoded data removed]",
            "text/plain": [
              "<Figure size 432x288 with 4 Axes>"
            ]
          },
          "metadata": {
            "tags": [],
            "needs_background": "light"
          }
        }
      ]
    },
    {
      "cell_type": "code",
      "metadata": {
        "colab": {
          "base_uri": "https://localhost:8080/",
          "height": 207
        },
        "id": "ekOZ-xnAoo6P",
        "outputId": "c4cb7bad-0e5d-4acf-89bc-31f90e36f901"
      },
      "source": [
        "#creating  subplots\n",
        "#for x and y4\n",
        "plt.subplot(3,3,1)\n",
        "plt.plot(x,y4,'r--')\n",
        "plt.subplot(3,3,2)\n",
        "plt.plot(x,y4,'b*--')\n",
        "plt.subplot(3,3,3)\n",
        "plt.plot(x,y4,'go-')\n",
        "plt.subplot(3,3,4)\n",
        "plt.plot(x,y4,'b-')"
      ],
      "execution_count": 36,
      "outputs": [
        {
          "output_type": "execute_result",
          "data": {
            "text/plain": [
              "[<matplotlib.lines.Line2D at 0x7f33e4983c90>]"
            ]
          },
          "metadata": {
            "tags": []
          },
          "execution_count": 36
        },
        {
          "output_type": "display_data",
          "data": {
            "image/png": "[encoded data removed]",
            "text/plain": [
              "<Figure size 432x288 with 4 Axes>"
            ]
          },
          "metadata": {
            "tags": [],
            "needs_background": "light"
          }
        }
      ]
    },
    {
      "cell_type": "code",
      "metadata": {
        "colab": {
          "base_uri": "https://localhost:8080/",
          "height": 206
        },
        "id": "Ckcj3suPoubH",
        "outputId": "3eba0486-acb8-4d52-83a6-04377f915e0a"
      },
      "source": [
        "#creating  subplots\n",
        "#for x and y5\n",
        "plt.subplot(3,3,1)\n",
        "plt.plot(x,y5,'r--')\n",
        "plt.subplot(3,3,2)\n",
        "plt.plot(x,y5,'b*--')\n",
        "plt.subplot(3,3,3)\n",
        "plt.plot(x,y5,'go-')\n",
        "plt.subplot(3,3,4)\n",
        "plt.plot(x,y5,'b-')"
      ],
      "execution_count": 35,
      "outputs": [
        {
          "output_type": "execute_result",
          "data": {
            "text/plain": [
              "[<matplotlib.lines.Line2D at 0x7f33e4ac2a10>]"
            ]
          },
          "metadata": {
            "tags": []
          },
          "execution_count": 35
        },
        {
          "output_type": "display_data",
          "data": {
            "image/png": "[encoded data removed]",
            "text/plain": [
              "<Figure size 432x288 with 4 Axes>"
            ]
          },
          "metadata": {
            "tags": [],
            "needs_background": "light"
          }
        }
      ]
    },
    {
      "cell_type": "code",
      "metadata": {
        "id": "1-oBE40Oo0mA"
      },
      "source": [
        ""
      ],
      "execution_count": null,
      "outputs": []
    }
  ]
}