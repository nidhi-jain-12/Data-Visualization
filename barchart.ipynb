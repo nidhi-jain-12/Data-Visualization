{
  "nbformat": 4,
  "nbformat_minor": 0,
  "metadata": {
    "colab": {
      "name": "barchart.ipynb",
      "provenance": [],
      "collapsed_sections": [],
      "authorship_tag": "ABX9TyPSlq9tMv9cIh9A8TsUW6Ko",
      "include_colab_link": true
    },
    "kernelspec": {
      "name": "python3",
      "display_name": "Python 3"
    },
    "language_info": {
      "name": "python"
    }
  },
  "cells": [
    {
      "cell_type": "markdown",
      "metadata": {
        "id": "view-in-github",
        "colab_type": "text"
      },
      "source": [
        "<a href=\"https://colab.research.google.com/github/nidhi-jain-12/Data-Visualization/blob/Main/barchart.ipynb\" target=\"_parent\"><img src=\"https://colab.research.google.com/assets/colab-badge.svg\" alt=\"Open In Colab\"/></a>"
      ]
    },
    {
      "cell_type": "markdown",
      "metadata": {
        "id": "l6fi7SScvvtM"
      },
      "source": [
        "#Data Visualization using Python\n"
      ]
    },
    {
      "cell_type": "markdown",
      "metadata": {
        "id": "GUYtPBxiwH0a"
      },
      "source": [
        "#Importing all libraries in Python for data visualization"
      ]
    },
    {
      "cell_type": "code",
      "metadata": {
        "id": "OB9Xs9g8wHYS"
      },
      "source": [
        "import numpy as np\n",
        "import pandas as pd\n",
        "import matplotlib as mpl\n",
        "import matplotlib.pyplot as plt\n",
        "import seaborn as sns\n",
        "%matplotlib inline"
      ],
      "execution_count": null,
      "outputs": []
    },
    {
      "cell_type": "markdown",
      "metadata": {
        "id": "99NdO_f7xAAG"
      },
      "source": [
        "#importing libraries to generate random number in python\n"
      ]
    },
    {
      "cell_type": "code",
      "metadata": {
        "id": "IDt4jctltqTl"
      },
      "source": [
        "from numpy.random import randn , randint , uniform , sample"
      ],
      "execution_count": null,
      "outputs": []
    },
    {
      "cell_type": "code",
      "metadata": {
        "id": "lSiALYgDxSxM"
      },
      "source": [
        "#Question\n",
        "#Create a dataframe with 10 rows on random numbers and\n",
        "#4 columns,(columns labelled as a,b,c,d) and \n",
        "#plot a bar chart"
      ],
      "execution_count": null,
      "outputs": []
    },
    {
      "cell_type": "code",
      "metadata": {
        "id": "H5hk9Wkpx9r0"
      },
      "source": [
        "df = pd.DataFrame(randn(10,4) , columns=['a','b','c','d'])"
      ],
      "execution_count": null,
      "outputs": []
    },
    {
      "cell_type": "code",
      "metadata": {
        "colab": {
          "base_uri": "https://localhost:8080/",
          "height": 357
        },
        "id": "eFQYau_Tya1c",
        "outputId": "9ef296de-acf2-4a85-8115-0dee02da42fd"
      },
      "source": [
        "df"
      ],
      "execution_count": null,
      "outputs": [
        {
          "output_type": "execute_result",
          "data": {
            "text/html": [
              "<div>\n",
              "<style scoped>\n",
              "    .dataframe tbody tr th:only-of-type {\n",
              "        vertical-align: middle;\n",
              "    }\n",
              "\n",
              "    .dataframe tbody tr th {\n",
              "        vertical-align: top;\n",
              "    }\n",
              "\n",
              "    .dataframe thead th {\n",
              "        text-align: right;\n",
              "    }\n",
              "</style>\n",
              "<table border=\"1\" class=\"dataframe\">\n",
              "  <thead>\n",
              "    <tr style=\"text-align: right;\">\n",
              "      <th></th>\n",
              "      <th>a</th>\n",
              "      <th>b</th>\n",
              "      <th>c</th>\n",
              "      <th>d</th>\n",
              "    </tr>\n",
              "  </thead>\n",
              "  <tbody>\n",
              "    <tr>\n",
              "      <th>0</th>\n",
              "      <td>-0.236096</td>\n",
              "      <td>-0.621994</td>\n",
              "      <td>-0.100237</td>\n",
              "      <td>-0.149289</td>\n",
              "    </tr>\n",
              "    <tr>\n",
              "      <th>1</th>\n",
              "      <td>0.384176</td>\n",
              "      <td>1.161082</td>\n",
              "      <td>0.363236</td>\n",
              "      <td>-0.769099</td>\n",
              "    </tr>\n",
              "    <tr>\n",
              "      <th>2</th>\n",
              "      <td>-0.208743</td>\n",
              "      <td>0.267153</td>\n",
              "      <td>-0.920190</td>\n",
              "      <td>-2.007069</td>\n",
              "    </tr>\n",
              "    <tr>\n",
              "      <th>3</th>\n",
              "      <td>0.171773</td>\n",
              "      <td>0.934146</td>\n",
              "      <td>1.000762</td>\n",
              "      <td>-1.738243</td>\n",
              "    </tr>\n",
              "    <tr>\n",
              "      <th>4</th>\n",
              "      <td>1.018561</td>\n",
              "      <td>-0.372217</td>\n",
              "      <td>0.837318</td>\n",
              "      <td>0.677343</td>\n",
              "    </tr>\n",
              "    <tr>\n",
              "      <th>5</th>\n",
              "      <td>1.491292</td>\n",
              "      <td>-0.535625</td>\n",
              "      <td>0.634369</td>\n",
              "      <td>1.053218</td>\n",
              "    </tr>\n",
              "    <tr>\n",
              "      <th>6</th>\n",
              "      <td>-0.483178</td>\n",
              "      <td>0.384117</td>\n",
              "      <td>-0.590298</td>\n",
              "      <td>-1.080178</td>\n",
              "    </tr>\n",
              "    <tr>\n",
              "      <th>7</th>\n",
              "      <td>0.632997</td>\n",
              "      <td>-0.419530</td>\n",
              "      <td>0.917487</td>\n",
              "      <td>1.059362</td>\n",
              "    </tr>\n",
              "    <tr>\n",
              "      <th>8</th>\n",
              "      <td>-0.064539</td>\n",
              "      <td>-1.058243</td>\n",
              "      <td>0.492101</td>\n",
              "      <td>1.082166</td>\n",
              "    </tr>\n",
              "    <tr>\n",
              "      <th>9</th>\n",
              "      <td>0.036662</td>\n",
              "      <td>-0.581764</td>\n",
              "      <td>0.518085</td>\n",
              "      <td>-0.161072</td>\n",
              "    </tr>\n",
              "  </tbody>\n",
              "</table>\n",
              "</div>"
            ],
            "text/plain": [
              "          a         b         c         d\n",
              "0 -0.236096 -0.621994 -0.100237 -0.149289\n",
              "1  0.384176  1.161082  0.363236 -0.769099\n",
              "2 -0.208743  0.267153 -0.920190 -2.007069\n",
              "3  0.171773  0.934146  1.000762 -1.738243\n",
              "4  1.018561 -0.372217  0.837318  0.677343\n",
              "5  1.491292 -0.535625  0.634369  1.053218\n",
              "6 -0.483178  0.384117 -0.590298 -1.080178\n",
              "7  0.632997 -0.419530  0.917487  1.059362\n",
              "8 -0.064539 -1.058243  0.492101  1.082166\n",
              "9  0.036662 -0.581764  0.518085 -0.161072"
            ]
          },
          "metadata": {
            "tags": []
          },
          "execution_count": 25
        }
      ]
    },
    {
      "cell_type": "code",
      "metadata": {
        "colab": {
          "base_uri": "https://localhost:8080/",
          "height": 295
        },
        "id": "CGieTokTy2lU",
        "outputId": "87f94266-8f78-40a0-c710-7e57cb819898"
      },
      "source": [
        "df.describe()"
      ],
      "execution_count": null,
      "outputs": [
        {
          "output_type": "execute_result",
          "data": {
            "text/html": [
              "<div>\n",
              "<style scoped>\n",
              "    .dataframe tbody tr th:only-of-type {\n",
              "        vertical-align: middle;\n",
              "    }\n",
              "\n",
              "    .dataframe tbody tr th {\n",
              "        vertical-align: top;\n",
              "    }\n",
              "\n",
              "    .dataframe thead th {\n",
              "        text-align: right;\n",
              "    }\n",
              "</style>\n",
              "<table border=\"1\" class=\"dataframe\">\n",
              "  <thead>\n",
              "    <tr style=\"text-align: right;\">\n",
              "      <th></th>\n",
              "      <th>a</th>\n",
              "      <th>b</th>\n",
              "      <th>c</th>\n",
              "      <th>d</th>\n",
              "    </tr>\n",
              "  </thead>\n",
              "  <tbody>\n",
              "    <tr>\n",
              "      <th>count</th>\n",
              "      <td>10.000000</td>\n",
              "      <td>10.000000</td>\n",
              "      <td>10.000000</td>\n",
              "      <td>10.000000</td>\n",
              "    </tr>\n",
              "    <tr>\n",
              "      <th>mean</th>\n",
              "      <td>0.274291</td>\n",
              "      <td>-0.084287</td>\n",
              "      <td>0.315263</td>\n",
              "      <td>-0.203286</td>\n",
              "    </tr>\n",
              "    <tr>\n",
              "      <th>std</th>\n",
              "      <td>0.616904</td>\n",
              "      <td>0.731457</td>\n",
              "      <td>0.649845</td>\n",
              "      <td>1.169258</td>\n",
              "    </tr>\n",
              "    <tr>\n",
              "      <th>min</th>\n",
              "      <td>-0.483178</td>\n",
              "      <td>-1.058243</td>\n",
              "      <td>-0.920190</td>\n",
              "      <td>-2.007069</td>\n",
              "    </tr>\n",
              "    <tr>\n",
              "      <th>25%</th>\n",
              "      <td>-0.172692</td>\n",
              "      <td>-0.570229</td>\n",
              "      <td>0.015631</td>\n",
              "      <td>-1.002408</td>\n",
              "    </tr>\n",
              "    <tr>\n",
              "      <th>50%</th>\n",
              "      <td>0.104217</td>\n",
              "      <td>-0.395873</td>\n",
              "      <td>0.505093</td>\n",
              "      <td>-0.155181</td>\n",
              "    </tr>\n",
              "    <tr>\n",
              "      <th>75%</th>\n",
              "      <td>0.570792</td>\n",
              "      <td>0.354876</td>\n",
              "      <td>0.786581</td>\n",
              "      <td>0.959249</td>\n",
              "    </tr>\n",
              "    <tr>\n",
              "      <th>max</th>\n",
              "      <td>1.491292</td>\n",
              "      <td>1.161082</td>\n",
              "      <td>1.000762</td>\n",
              "      <td>1.082166</td>\n",
              "    </tr>\n",
              "  </tbody>\n",
              "</table>\n",
              "</div>"
            ],
            "text/plain": [
              "               a          b          c          d\n",
              "count  10.000000  10.000000  10.000000  10.000000\n",
              "mean    0.274291  -0.084287   0.315263  -0.203286\n",
              "std     0.616904   0.731457   0.649845   1.169258\n",
              "min    -0.483178  -1.058243  -0.920190  -2.007069\n",
              "25%    -0.172692  -0.570229   0.015631  -1.002408\n",
              "50%     0.104217  -0.395873   0.505093  -0.155181\n",
              "75%     0.570792   0.354876   0.786581   0.959249\n",
              "max     1.491292   1.161082   1.000762   1.082166"
            ]
          },
          "metadata": {
            "tags": []
          },
          "execution_count": 26
        }
      ]
    },
    {
      "cell_type": "code",
      "metadata": {
        "colab": {
          "base_uri": "https://localhost:8080/",
          "height": 618
        },
        "id": "-rR_F7J6ybYA",
        "outputId": "e69f4290-cdef-4a40-f34f-81c5405de261"
      },
      "source": [
        "df.plot(kind='bar',figsize=(10,10))\n",
        "plt.title(\"BAR GRAPH\",color='b')\n",
        "plt.xlabel(\"X-axis\",color='g')\n",
        "plt.ylabel(\"Y-axis\",color='g')\n",
        "plt.legend()\n",
        "plt.show()"
      ],
      "execution_count": 29,
      "outputs": [
        {
          "output_type": "display_data",
          "data": {
            "image/png": "[encoded data removed]",
            "text/plain": [
              "<Figure size 720x720 with 1 Axes>"
            ]
          },
          "metadata": {
            "tags": [],
            "needs_background": "light"
          }
        }
      ]
    }
  ]
}