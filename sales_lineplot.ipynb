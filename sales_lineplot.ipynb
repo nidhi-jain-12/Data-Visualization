{
  "nbformat": 4,
  "nbformat_minor": 0,
  "metadata": {
    "colab": {
      "name": "sales_lineplot.ipynb",
      "provenance": [],
      "collapsed_sections": [],
      "authorship_tag": "ABX9TyM3Q3JqD3yWZA1LStsSBdya",
      "include_colab_link": true
    },
    "kernelspec": {
      "name": "python3",
      "display_name": "Python 3"
    },
    "language_info": {
      "name": "python"
    }
  },
  "cells": [
    {
      "cell_type": "markdown",
      "metadata": {
        "id": "view-in-github",
        "colab_type": "text"
      },
      "source": [
        "<a href=\"https://colab.research.google.com/github/nidhi-jain-12/Data-Visualization/blob/Main/sales_lineplot.ipynb\" target=\"_parent\"><img src=\"https://colab.research.google.com/assets/colab-badge.svg\" alt=\"Open In Colab\"/></a>"
      ]
    },
    {
      "cell_type": "code",
      "metadata": {
        "id": "E4f4rwtRkfDJ"
      },
      "source": [
        "#data visualization using python"
      ],
      "execution_count": 1,
      "outputs": []
    },
    {
      "cell_type": "code",
      "metadata": {
        "id": "Szupvo5AkfmY"
      },
      "source": [
        "#importing all libraries in python for data visualization"
      ],
      "execution_count": 2,
      "outputs": []
    },
    {
      "cell_type": "code",
      "metadata": {
        "id": "M9IAUAC5khvp"
      },
      "source": [
        "import numpy as np"
      ],
      "execution_count": 3,
      "outputs": []
    },
    {
      "cell_type": "code",
      "metadata": {
        "id": "rZzzW6ndkjSP"
      },
      "source": [
        "import pandas as pd"
      ],
      "execution_count": 5,
      "outputs": []
    },
    {
      "cell_type": "code",
      "metadata": {
        "id": "XCb4PcCeklN2"
      },
      "source": [
        "import matplotlib.pyplot as plt"
      ],
      "execution_count": 6,
      "outputs": []
    },
    {
      "cell_type": "code",
      "metadata": {
        "id": "7zWySYg9ktg1"
      },
      "source": [
        "import seaborn as sns"
      ],
      "execution_count": 7,
      "outputs": []
    },
    {
      "cell_type": "code",
      "metadata": {
        "id": "2WvRRkshkwQi"
      },
      "source": [
        "import matplotlib.pyplot as plt"
      ],
      "execution_count": 8,
      "outputs": []
    },
    {
      "cell_type": "code",
      "metadata": {
        "id": "4F1J5-IHkzlp"
      },
      "source": [
        "%matplotlib inline"
      ],
      "execution_count": 9,
      "outputs": []
    },
    {
      "cell_type": "code",
      "metadata": {
        "id": "FosMkh5Kk3EI"
      },
      "source": [
        "#Question 2\n",
        "# Plot a line plot showing the sales trend in company 1 and 2:\n",
        "\n",
        "days = [1,2,3,4,5,6,7] \n",
        "#days of d week\n",
        "\n",
        "sales_1 = [160,150,140,145,175,165,180] \n",
        "#sales of company1\n",
        "\n",
        "sales_2 = [70,90,160,150,140,145,175]  \n",
        "#sales of company2"
      ],
      "execution_count": 12,
      "outputs": []
    },
    {
      "cell_type": "code",
      "metadata": {
        "colab": {
          "base_uri": "https://localhost:8080/",
          "height": 295
        },
        "id": "r1KELeGIlFs6",
        "outputId": "9c4d879b-daf5-438e-f76b-78dc6ae41732"
      },
      "source": [
        "plt.title(\"sales per day\",color=\"r\")\n",
        "plt.xlabel(\"days\",color=\"g\")\n",
        "plt.ylabel(\"sales\",color=\"g\")\n",
        "plt.plot(days,sales_1,\"b--\",linewidth=2,markersize=2)\n",
        "plt.plot(days,sales_2,\"g--\",linewidth=2,markersize=2)\n",
        "plt.show()"
      ],
      "execution_count": 14,
      "outputs": [
        {
          "output_type": "display_data",
          "data": {
            "image/png": "[encoded data removed]",
            "text/plain": [
              "<Figure size 432x288 with 1 Axes>"
            ]
          },
          "metadata": {
            "tags": [],
            "needs_background": "light"
          }
        }
      ]
    },
    {
      "cell_type": "code",
      "metadata": {
        "id": "hqe0RhZ1lec-"
      },
      "source": [
        ""
      ],
      "execution_count": null,
      "outputs": []
    }
  ]
}